{
 "cells": [
  {
   "cell_type": "code",
   "execution_count": 1,
   "metadata": {},
   "outputs": [],
   "source": [
    "import pandas as pd\n",
    "import numpy as np\n",
    "import matplotlib.pyplot as plt\n",
    "import seaborn as sns\n",
    "sns.set()\n",
    "from sklearn.model_selection import train_test_split\n",
    "from sklearn.metrics import confusion_matrix\n",
    "from sklearn.model_selection import GridSearchCV\n",
    "from tensorflow.keras.wrappers.scikit_learn import KerasClassifier\n",
    "from sklearn.model_selection import cross_val_score"
   ]
  },
  {
   "cell_type": "markdown",
   "metadata": {},
   "source": [
    "# Cargo Dataset"
   ]
  },
  {
   "cell_type": "code",
   "execution_count": 2,
   "metadata": {},
   "outputs": [],
   "source": [
    "dir_rojo=\"rojo.xls\"\n",
    "dir_azul=\"azul.xls\"\n",
    "dir_verde=\"verde.xls\"\n",
    "\n",
    "dir_acQu=\"aceroQuirurgico.xls\"\n",
    "dir_paMa=\"papelMadera.xls\"\n",
    "dir_piMa=\"pielMano.xls\"\n",
    "dir_plNe=\"plasticoNegro.xls\"\n",
    "dir_poBl=\"porcelanaBlanca.xls\"\n",
    "dir_teBl=\"telgoporBlanco.xls\"\n",
    "dir_liFi=\"lijafina.xls\"\n",
    "dir_liGr=\"lijagruesa.xls\"\n",
    "\n",
    "dir_Algo=\"algodon.xls\"\n",
    "dir_cian=\"cian.xls\"\n",
    "dir_magenta=\"magenta.xls\"\n",
    "dir_VerAz=\"verdeyazul.xls\"\n",
    "dir_RoAz=\"rojoyazul.xls\"\n",
    "\n",
    "\n",
    "\n",
    "rojo=pd.read_excel(dir_rojo,header=1,usecols=[\"Valor_R\",\"Valor_V\",\"Valor_A\"])\n",
    "azul=pd.read_excel(dir_azul,header=1,usecols=[\"Valor_R\",\"Valor_V\",\"Valor_A\"])\n",
    "verde=pd.read_excel(dir_verde,header=1,usecols=[\"Valor_R\",\"Valor_V\",\"Valor_A\"])\n",
    "\n",
    "aceroQuirurgico=pd.read_excel(dir_acQu,header=1,usecols=[\"Valor_R\",\"Valor_V\",\"Valor_A\"])\n",
    "papelMadera=pd.read_excel(dir_paMa,header=1,usecols=[\"Valor_R\",\"Valor_V\",\"Valor_A\"])\n",
    "pielMano=pd.read_excel(dir_piMa,header=1,usecols=[\"Valor_R\",\"Valor_V\",\"Valor_A\"])\n",
    "plasticoNegro=pd.read_excel(dir_plNe,header=1,usecols=[\"Valor_R\",\"Valor_V\",\"Valor_A\"])\n",
    "porcelanaBlanca=pd.read_excel(dir_poBl,header=1,usecols=[\"Valor_R\",\"Valor_V\",\"Valor_A\"])\n",
    "telgoporBlanco=pd.read_excel(dir_teBl,header=1,usecols=[\"Valor_R\",\"Valor_V\",\"Valor_A\"])\n",
    "lijaFina=pd.read_excel(dir_liFi,header=1,usecols=[\"Valor_R\",\"Valor_V\",\"Valor_A\"])\n",
    "lijaGruesa=pd.read_excel(dir_liGr,header=1,usecols=[\"Valor_R\",\"Valor_V\",\"Valor_A\"])\n",
    "\n",
    "algodon=pd.read_excel(dir_Algo,header=1,usecols=[\"Valor_R\",\"Valor_V\",\"Valor_A\"])\n",
    "cian=pd.read_excel(dir_cian,header=1,usecols=[\"Valor_R\",\"Valor_V\",\"Valor_A\"])\n",
    "magenta=pd.read_excel(dir_magenta,header=1,usecols=[\"Valor_R\",\"Valor_V\",\"Valor_A\"])\n",
    "verdeyazul=pd.read_excel(dir_VerAz,header=1,usecols=[\"Valor_R\",\"Valor_V\",\"Valor_A\"])\n",
    "rojoyazul=pd.read_excel(dir_RoAz,header=1,usecols=[\"Valor_R\",\"Valor_V\",\"Valor_A\"])\n"
   ]
  },
  {
   "cell_type": "markdown",
   "metadata": {},
   "source": [
    "# Cargo Etiquetas"
   ]
  },
  {
   "cell_type": "code",
   "execution_count": 3,
   "metadata": {},
   "outputs": [],
   "source": [
    "rojo.drop(0, inplace=True)\n",
    "azul.drop(0, inplace=True)\n",
    "verde.drop(0, inplace=True)\n",
    "\n",
    "aceroQuirurgico.drop(0, inplace=True)\n",
    "papelMadera.drop(0, inplace=True)\n",
    "pielMano.drop(0, inplace=True)\n",
    "plasticoNegro.drop(0, inplace=True)\n",
    "porcelanaBlanca.drop(0, inplace=True)\n",
    "telgoporBlanco.drop(0, inplace=True)\n",
    "lijaFina.drop(0, inplace=True)\n",
    "lijaGruesa.drop(0, inplace=True)\n",
    "\n",
    "algodon.drop(0, inplace=True)\n",
    "cian.drop(0, inplace=True)\n",
    "magenta.drop(0, inplace=True)\n",
    "verdeyazul.drop(0, inplace=True)\n",
    "rojoyazul.drop(0, inplace=True)\n",
    "\n",
    "rojo[\"etiqueta\"]=0\n",
    "azul[\"etiqueta\"]=1\n",
    "verde[\"etiqueta\"]=2\n",
    "\n",
    "aceroQuirurgico[\"etiqueta\"]=3\n",
    "papelMadera[\"etiqueta\"]=4\n",
    "pielMano[\"etiqueta\"]=5\n",
    "plasticoNegro[\"etiqueta\"]=6\n",
    "porcelanaBlanca[\"etiqueta\"]=7\n",
    "telgoporBlanco[\"etiqueta\"]=8\n",
    "lijaFina[\"etiqueta\"]=9\n",
    "lijaGruesa[\"etiqueta\"]=10\n",
    "\n",
    "algodon[\"etiqueta\"]=11\n",
    "cian[\"etiqueta\"]=12\n",
    "magenta[\"etiqueta\"]=13\n",
    "verdeyazul[\"etiqueta\"]=14\n",
    "rojoyazul[\"etiqueta\"]=15\n",
    "\n",
    "df=pd.concat([rojo, azul, verde,aceroQuirurgico,papelMadera,pielMano,plasticoNegro,porcelanaBlanca,telgoporBlanco,lijaFina,lijaGruesa,algodon,cian,magenta,verdeyazul,rojoyazul], axis=0,ignore_index=True)"
   ]
  },
  {
   "cell_type": "code",
   "execution_count": 4,
   "metadata": {},
   "outputs": [
    {
     "data": {
      "text/html": [
       "<div>\n",
       "<style scoped>\n",
       "    .dataframe tbody tr th:only-of-type {\n",
       "        vertical-align: middle;\n",
       "    }\n",
       "\n",
       "    .dataframe tbody tr th {\n",
       "        vertical-align: top;\n",
       "    }\n",
       "\n",
       "    .dataframe thead th {\n",
       "        text-align: right;\n",
       "    }\n",
       "</style>\n",
       "<table border=\"1\" class=\"dataframe\">\n",
       "  <thead>\n",
       "    <tr style=\"text-align: right;\">\n",
       "      <th></th>\n",
       "      <th>0</th>\n",
       "      <th>1</th>\n",
       "      <th>2</th>\n",
       "      <th>3</th>\n",
       "      <th>4</th>\n",
       "      <th>5</th>\n",
       "      <th>6</th>\n",
       "      <th>7</th>\n",
       "      <th>8</th>\n",
       "      <th>9</th>\n",
       "      <th>10</th>\n",
       "      <th>11</th>\n",
       "      <th>12</th>\n",
       "      <th>13</th>\n",
       "      <th>14</th>\n",
       "      <th>15</th>\n",
       "    </tr>\n",
       "  </thead>\n",
       "  <tbody>\n",
       "    <tr>\n",
       "      <th>0</th>\n",
       "      <td>1</td>\n",
       "      <td>0</td>\n",
       "      <td>0</td>\n",
       "      <td>0</td>\n",
       "      <td>0</td>\n",
       "      <td>0</td>\n",
       "      <td>0</td>\n",
       "      <td>0</td>\n",
       "      <td>0</td>\n",
       "      <td>0</td>\n",
       "      <td>0</td>\n",
       "      <td>0</td>\n",
       "      <td>0</td>\n",
       "      <td>0</td>\n",
       "      <td>0</td>\n",
       "      <td>0</td>\n",
       "    </tr>\n",
       "    <tr>\n",
       "      <th>1</th>\n",
       "      <td>1</td>\n",
       "      <td>0</td>\n",
       "      <td>0</td>\n",
       "      <td>0</td>\n",
       "      <td>0</td>\n",
       "      <td>0</td>\n",
       "      <td>0</td>\n",
       "      <td>0</td>\n",
       "      <td>0</td>\n",
       "      <td>0</td>\n",
       "      <td>0</td>\n",
       "      <td>0</td>\n",
       "      <td>0</td>\n",
       "      <td>0</td>\n",
       "      <td>0</td>\n",
       "      <td>0</td>\n",
       "    </tr>\n",
       "    <tr>\n",
       "      <th>2</th>\n",
       "      <td>1</td>\n",
       "      <td>0</td>\n",
       "      <td>0</td>\n",
       "      <td>0</td>\n",
       "      <td>0</td>\n",
       "      <td>0</td>\n",
       "      <td>0</td>\n",
       "      <td>0</td>\n",
       "      <td>0</td>\n",
       "      <td>0</td>\n",
       "      <td>0</td>\n",
       "      <td>0</td>\n",
       "      <td>0</td>\n",
       "      <td>0</td>\n",
       "      <td>0</td>\n",
       "      <td>0</td>\n",
       "    </tr>\n",
       "    <tr>\n",
       "      <th>3</th>\n",
       "      <td>1</td>\n",
       "      <td>0</td>\n",
       "      <td>0</td>\n",
       "      <td>0</td>\n",
       "      <td>0</td>\n",
       "      <td>0</td>\n",
       "      <td>0</td>\n",
       "      <td>0</td>\n",
       "      <td>0</td>\n",
       "      <td>0</td>\n",
       "      <td>0</td>\n",
       "      <td>0</td>\n",
       "      <td>0</td>\n",
       "      <td>0</td>\n",
       "      <td>0</td>\n",
       "      <td>0</td>\n",
       "    </tr>\n",
       "    <tr>\n",
       "      <th>4</th>\n",
       "      <td>1</td>\n",
       "      <td>0</td>\n",
       "      <td>0</td>\n",
       "      <td>0</td>\n",
       "      <td>0</td>\n",
       "      <td>0</td>\n",
       "      <td>0</td>\n",
       "      <td>0</td>\n",
       "      <td>0</td>\n",
       "      <td>0</td>\n",
       "      <td>0</td>\n",
       "      <td>0</td>\n",
       "      <td>0</td>\n",
       "      <td>0</td>\n",
       "      <td>0</td>\n",
       "      <td>0</td>\n",
       "    </tr>\n",
       "    <tr>\n",
       "      <th>...</th>\n",
       "      <td>...</td>\n",
       "      <td>...</td>\n",
       "      <td>...</td>\n",
       "      <td>...</td>\n",
       "      <td>...</td>\n",
       "      <td>...</td>\n",
       "      <td>...</td>\n",
       "      <td>...</td>\n",
       "      <td>...</td>\n",
       "      <td>...</td>\n",
       "      <td>...</td>\n",
       "      <td>...</td>\n",
       "      <td>...</td>\n",
       "      <td>...</td>\n",
       "      <td>...</td>\n",
       "      <td>...</td>\n",
       "    </tr>\n",
       "    <tr>\n",
       "      <th>31979</th>\n",
       "      <td>0</td>\n",
       "      <td>0</td>\n",
       "      <td>0</td>\n",
       "      <td>0</td>\n",
       "      <td>0</td>\n",
       "      <td>0</td>\n",
       "      <td>0</td>\n",
       "      <td>0</td>\n",
       "      <td>0</td>\n",
       "      <td>0</td>\n",
       "      <td>0</td>\n",
       "      <td>0</td>\n",
       "      <td>0</td>\n",
       "      <td>0</td>\n",
       "      <td>0</td>\n",
       "      <td>1</td>\n",
       "    </tr>\n",
       "    <tr>\n",
       "      <th>31980</th>\n",
       "      <td>0</td>\n",
       "      <td>0</td>\n",
       "      <td>0</td>\n",
       "      <td>0</td>\n",
       "      <td>0</td>\n",
       "      <td>0</td>\n",
       "      <td>0</td>\n",
       "      <td>0</td>\n",
       "      <td>0</td>\n",
       "      <td>0</td>\n",
       "      <td>0</td>\n",
       "      <td>0</td>\n",
       "      <td>0</td>\n",
       "      <td>0</td>\n",
       "      <td>0</td>\n",
       "      <td>1</td>\n",
       "    </tr>\n",
       "    <tr>\n",
       "      <th>31981</th>\n",
       "      <td>0</td>\n",
       "      <td>0</td>\n",
       "      <td>0</td>\n",
       "      <td>0</td>\n",
       "      <td>0</td>\n",
       "      <td>0</td>\n",
       "      <td>0</td>\n",
       "      <td>0</td>\n",
       "      <td>0</td>\n",
       "      <td>0</td>\n",
       "      <td>0</td>\n",
       "      <td>0</td>\n",
       "      <td>0</td>\n",
       "      <td>0</td>\n",
       "      <td>0</td>\n",
       "      <td>1</td>\n",
       "    </tr>\n",
       "    <tr>\n",
       "      <th>31982</th>\n",
       "      <td>0</td>\n",
       "      <td>0</td>\n",
       "      <td>0</td>\n",
       "      <td>0</td>\n",
       "      <td>0</td>\n",
       "      <td>0</td>\n",
       "      <td>0</td>\n",
       "      <td>0</td>\n",
       "      <td>0</td>\n",
       "      <td>0</td>\n",
       "      <td>0</td>\n",
       "      <td>0</td>\n",
       "      <td>0</td>\n",
       "      <td>0</td>\n",
       "      <td>0</td>\n",
       "      <td>1</td>\n",
       "    </tr>\n",
       "    <tr>\n",
       "      <th>31983</th>\n",
       "      <td>0</td>\n",
       "      <td>0</td>\n",
       "      <td>0</td>\n",
       "      <td>0</td>\n",
       "      <td>0</td>\n",
       "      <td>0</td>\n",
       "      <td>0</td>\n",
       "      <td>0</td>\n",
       "      <td>0</td>\n",
       "      <td>0</td>\n",
       "      <td>0</td>\n",
       "      <td>0</td>\n",
       "      <td>0</td>\n",
       "      <td>0</td>\n",
       "      <td>0</td>\n",
       "      <td>1</td>\n",
       "    </tr>\n",
       "  </tbody>\n",
       "</table>\n",
       "<p>31984 rows × 16 columns</p>\n",
       "</div>"
      ],
      "text/plain": [
       "       0   1   2   3   4   5   6   7   8   9   10  11  12  13  14  15\n",
       "0       1   0   0   0   0   0   0   0   0   0   0   0   0   0   0   0\n",
       "1       1   0   0   0   0   0   0   0   0   0   0   0   0   0   0   0\n",
       "2       1   0   0   0   0   0   0   0   0   0   0   0   0   0   0   0\n",
       "3       1   0   0   0   0   0   0   0   0   0   0   0   0   0   0   0\n",
       "4       1   0   0   0   0   0   0   0   0   0   0   0   0   0   0   0\n",
       "...    ..  ..  ..  ..  ..  ..  ..  ..  ..  ..  ..  ..  ..  ..  ..  ..\n",
       "31979   0   0   0   0   0   0   0   0   0   0   0   0   0   0   0   1\n",
       "31980   0   0   0   0   0   0   0   0   0   0   0   0   0   0   0   1\n",
       "31981   0   0   0   0   0   0   0   0   0   0   0   0   0   0   0   1\n",
       "31982   0   0   0   0   0   0   0   0   0   0   0   0   0   0   0   1\n",
       "31983   0   0   0   0   0   0   0   0   0   0   0   0   0   0   0   1\n",
       "\n",
       "[31984 rows x 16 columns]"
      ]
     },
     "execution_count": 4,
     "metadata": {},
     "output_type": "execute_result"
    }
   ],
   "source": [
    "pd.get_dummies(df[\"etiqueta\"])"
   ]
  },
  {
   "cell_type": "markdown",
   "metadata": {},
   "source": [
    "# Separo en Train y Test"
   ]
  },
  {
   "cell_type": "code",
   "execution_count": 5,
   "metadata": {},
   "outputs": [],
   "source": [
    "X_train, X_test, y_train, y_test = train_test_split(df[[\"Valor_R\",\"Valor_V\",\"Valor_A\"]], pd.get_dummies(df[\"etiqueta\"]), test_size = 0.3, stratify = df[\"etiqueta\"])"
   ]
  },
  {
   "cell_type": "code",
   "execution_count": 6,
   "metadata": {},
   "outputs": [
    {
     "data": {
      "text/plain": [
       "(22388, 3)"
      ]
     },
     "execution_count": 6,
     "metadata": {},
     "output_type": "execute_result"
    }
   ],
   "source": [
    "X_train.shape"
   ]
  },
  {
   "cell_type": "markdown",
   "metadata": {},
   "source": [
    "# Creacion de modelo"
   ]
  },
  {
   "cell_type": "code",
   "execution_count": 7,
   "metadata": {},
   "outputs": [],
   "source": [
    "from keras.models import Sequential\n",
    "from keras.layers.core import Dense, Activation\n",
    "\n",
    "def create_model():\n",
    "    model = Sequential()\n",
    "    model.add(Dense(16, input_dim=3,activation='softmax'))\n",
    "\n",
    "    model.summary()\n",
    "\n",
    "    model.compile(loss='categorical_crossentropy', optimizer='adam', metrics=['accuracy'])\n",
    "    return model\n"
   ]
  },
  {
   "cell_type": "code",
   "execution_count": 8,
   "metadata": {},
   "outputs": [
    {
     "name": "stdout",
     "output_type": "stream",
     "text": [
      "Model: \"sequential\"\n",
      "_________________________________________________________________\n",
      " Layer (type)                Output Shape              Param #   \n",
      "=================================================================\n",
      " dense (Dense)               (None, 16)                64        \n",
      "                                                                 \n",
      "=================================================================\n",
      "Total params: 64\n",
      "Trainable params: 64\n",
      "Non-trainable params: 0\n",
      "_________________________________________________________________\n",
      "Epoch 1/100\n",
      "700/700 [==============================] - 3s 3ms/step - loss: 121.8004 - accuracy: 0.1105 - val_loss: 42.5018 - val_accuracy: 0.1458\n",
      "Epoch 2/100\n",
      "700/700 [==============================] - 2s 2ms/step - loss: 30.9357 - accuracy: 0.1612 - val_loss: 20.7555 - val_accuracy: 0.2404\n",
      "Epoch 3/100\n",
      "700/700 [==============================] - 2s 3ms/step - loss: 11.7813 - accuracy: 0.2049 - val_loss: 6.2393 - val_accuracy: 0.3530\n",
      "Epoch 4/100\n",
      "700/700 [==============================] - 2s 3ms/step - loss: 5.4521 - accuracy: 0.4980 - val_loss: 4.2978 - val_accuracy: 0.5709\n",
      "Epoch 5/100\n",
      "700/700 [==============================] - 2s 2ms/step - loss: 3.7095 - accuracy: 0.5986 - val_loss: 2.9653 - val_accuracy: 0.6100\n",
      "Epoch 6/100\n",
      "700/700 [==============================] - 1s 2ms/step - loss: 2.1760 - accuracy: 0.6471 - val_loss: 1.5068 - val_accuracy: 0.6020\n",
      "Epoch 7/100\n",
      "700/700 [==============================] - 2s 2ms/step - loss: 1.1472 - accuracy: 0.7392 - val_loss: 0.7960 - val_accuracy: 0.7871\n",
      "Epoch 8/100\n",
      "700/700 [==============================] - 2s 2ms/step - loss: 0.9710 - accuracy: 0.7537 - val_loss: 0.9305 - val_accuracy: 0.7177\n",
      "Epoch 9/100\n",
      "700/700 [==============================] - 2s 2ms/step - loss: 0.7761 - accuracy: 0.7683 - val_loss: 0.9100 - val_accuracy: 0.7548\n",
      "Epoch 10/100\n",
      "700/700 [==============================] - 2s 2ms/step - loss: 0.8258 - accuracy: 0.7557 - val_loss: 0.7928 - val_accuracy: 0.8224\n",
      "Epoch 11/100\n",
      "700/700 [==============================] - 2s 2ms/step - loss: 0.6201 - accuracy: 0.7762 - val_loss: 0.6294 - val_accuracy: 0.8228\n",
      "Epoch 12/100\n",
      "700/700 [==============================] - 2s 2ms/step - loss: 0.6290 - accuracy: 0.7739 - val_loss: 0.9759 - val_accuracy: 0.7528\n",
      "Epoch 13/100\n",
      "700/700 [==============================] - 2s 2ms/step - loss: 0.4183 - accuracy: 0.8142 - val_loss: 0.3287 - val_accuracy: 0.8424\n",
      "Epoch 14/100\n",
      "700/700 [==============================] - 1s 2ms/step - loss: 0.4706 - accuracy: 0.8271 - val_loss: 0.3064 - val_accuracy: 0.8776\n",
      "Epoch 15/100\n",
      "700/700 [==============================] - 1s 2ms/step - loss: 0.4064 - accuracy: 0.8634 - val_loss: 0.8618 - val_accuracy: 0.8427\n",
      "Epoch 16/100\n",
      "700/700 [==============================] - 2s 2ms/step - loss: 0.6178 - accuracy: 0.8567 - val_loss: 0.2813 - val_accuracy: 0.9516\n",
      "Epoch 17/100\n",
      "700/700 [==============================] - 2s 2ms/step - loss: 0.2878 - accuracy: 0.9165 - val_loss: 0.9189 - val_accuracy: 0.9041\n",
      "Epoch 18/100\n",
      "700/700 [==============================] - 1s 2ms/step - loss: 0.3663 - accuracy: 0.9213 - val_loss: 0.5366 - val_accuracy: 0.9141\n",
      "Epoch 19/100\n",
      "700/700 [==============================] - 2s 2ms/step - loss: 0.2578 - accuracy: 0.9425 - val_loss: 0.1982 - val_accuracy: 0.9434\n",
      "Epoch 20/100\n",
      "700/700 [==============================] - 2s 2ms/step - loss: 0.2900 - accuracy: 0.9362 - val_loss: 0.1990 - val_accuracy: 0.9760\n",
      "Epoch 21/100\n",
      "700/700 [==============================] - 1s 2ms/step - loss: 0.3034 - accuracy: 0.9406 - val_loss: 0.3507 - val_accuracy: 0.8970\n",
      "Epoch 22/100\n",
      "700/700 [==============================] - 1s 2ms/step - loss: 0.3247 - accuracy: 0.9407 - val_loss: 0.4847 - val_accuracy: 0.8593\n",
      "Epoch 23/100\n",
      "700/700 [==============================] - 1s 2ms/step - loss: 0.2872 - accuracy: 0.9446 - val_loss: 0.1693 - val_accuracy: 0.9829\n",
      "Epoch 24/100\n",
      "700/700 [==============================] - 1s 2ms/step - loss: 0.2244 - accuracy: 0.9592 - val_loss: 0.1898 - val_accuracy: 0.9437\n",
      "Epoch 25/100\n",
      "700/700 [==============================] - 2s 2ms/step - loss: 0.2661 - accuracy: 0.9562 - val_loss: 0.1981 - val_accuracy: 0.9367\n",
      "Epoch 26/100\n",
      "700/700 [==============================] - 2s 2ms/step - loss: 0.3003 - accuracy: 0.9491 - val_loss: 0.1441 - val_accuracy: 0.9748\n",
      "Epoch 27/100\n",
      "700/700 [==============================] - 2s 3ms/step - loss: 0.2183 - accuracy: 0.9591 - val_loss: 0.1301 - val_accuracy: 0.9885\n",
      "Epoch 28/100\n",
      "700/700 [==============================] - 2s 3ms/step - loss: 0.3096 - accuracy: 0.9473 - val_loss: 0.1185 - val_accuracy: 0.9878\n",
      "Epoch 29/100\n",
      "700/700 [==============================] - 3s 4ms/step - loss: 0.1652 - accuracy: 0.9668 - val_loss: 0.1262 - val_accuracy: 0.9754\n",
      "Epoch 30/100\n",
      "700/700 [==============================] - 2s 3ms/step - loss: 0.1799 - accuracy: 0.9665 - val_loss: 0.1164 - val_accuracy: 0.9923\n",
      "Epoch 31/100\n",
      "700/700 [==============================] - 2s 2ms/step - loss: 0.2566 - accuracy: 0.9578 - val_loss: 0.1136 - val_accuracy: 0.9916\n",
      "Epoch 32/100\n",
      "700/700 [==============================] - 2s 3ms/step - loss: 0.1672 - accuracy: 0.9690 - val_loss: 0.1218 - val_accuracy: 0.9734\n",
      "Epoch 33/100\n",
      "700/700 [==============================] - 2s 3ms/step - loss: 0.2838 - accuracy: 0.9581 - val_loss: 0.0985 - val_accuracy: 0.9928\n",
      "Epoch 34/100\n",
      "700/700 [==============================] - 2s 3ms/step - loss: 0.1875 - accuracy: 0.9680 - val_loss: 0.0968 - val_accuracy: 0.9907\n",
      "Epoch 35/100\n",
      "700/700 [==============================] - 2s 2ms/step - loss: 0.1729 - accuracy: 0.9690 - val_loss: 0.0927 - val_accuracy: 0.9859\n",
      "Epoch 36/100\n",
      "700/700 [==============================] - 2s 2ms/step - loss: 0.1539 - accuracy: 0.9716 - val_loss: 0.0996 - val_accuracy: 0.9944\n",
      "Epoch 37/100\n",
      "700/700 [==============================] - 2s 2ms/step - loss: 0.2404 - accuracy: 0.9561 - val_loss: 0.4746 - val_accuracy: 0.9342\n",
      "Epoch 38/100\n",
      "700/700 [==============================] - 2s 3ms/step - loss: 0.1815 - accuracy: 0.9678 - val_loss: 0.0912 - val_accuracy: 0.9827\n",
      "Epoch 39/100\n",
      "700/700 [==============================] - 2s 3ms/step - loss: 0.2021 - accuracy: 0.9708 - val_loss: 0.1657 - val_accuracy: 0.9470\n",
      "Epoch 40/100\n",
      "700/700 [==============================] - 2s 3ms/step - loss: 0.1392 - accuracy: 0.9715 - val_loss: 0.0897 - val_accuracy: 0.9946\n",
      "Epoch 41/100\n",
      "700/700 [==============================] - 3s 4ms/step - loss: 0.1616 - accuracy: 0.9724 - val_loss: 0.3519 - val_accuracy: 0.9246- ac\n",
      "Epoch 42/100\n",
      "700/700 [==============================] - 2s 2ms/step - loss: 0.2090 - accuracy: 0.9638 - val_loss: 0.1220 - val_accuracy: 0.9834\n",
      "Epoch 43/100\n",
      "700/700 [==============================] - 1s 2ms/step - loss: 0.2064 - accuracy: 0.9729 - val_loss: 0.0859 - val_accuracy: 0.9935\n",
      "Epoch 44/100\n",
      "700/700 [==============================] - 2s 2ms/step - loss: 0.2620 - accuracy: 0.9624 - val_loss: 0.0716 - val_accuracy: 0.9947\n",
      "Epoch 45/100\n",
      "700/700 [==============================] - 1s 2ms/step - loss: 0.1070 - accuracy: 0.9786 - val_loss: 0.0721 - val_accuracy: 0.9942\n",
      "Epoch 46/100\n",
      "700/700 [==============================] - 2s 2ms/step - loss: 0.1297 - accuracy: 0.9760 - val_loss: 0.3336 - val_accuracy: 0.9352\n",
      "Epoch 47/100\n",
      "700/700 [==============================] - 2s 2ms/step - loss: 0.1894 - accuracy: 0.9703 - val_loss: 0.1441 - val_accuracy: 0.9504\n",
      "Epoch 48/100\n",
      "700/700 [==============================] - 2s 2ms/step - loss: 0.1798 - accuracy: 0.9699 - val_loss: 0.0705 - val_accuracy: 0.9947\n",
      "Epoch 49/100\n",
      "700/700 [==============================] - 3s 4ms/step - loss: 0.1251 - accuracy: 0.9772 - val_loss: 0.0690 - val_accuracy: 0.9900\n",
      "Epoch 50/100\n",
      "700/700 [==============================] - 2s 4ms/step - loss: 0.1206 - accuracy: 0.9787 - val_loss: 0.0691 - val_accuracy: 0.9905\n",
      "Epoch 51/100\n",
      "700/700 [==============================] - 2s 3ms/step - loss: 0.1783 - accuracy: 0.9683 - val_loss: 0.0684 - val_accuracy: 0.9940\n",
      "Epoch 52/100\n",
      "700/700 [==============================] - 2s 3ms/step - loss: 0.1534 - accuracy: 0.9732 - val_loss: 0.0751 - val_accuracy: 0.9895\n",
      "Epoch 53/100\n",
      "700/700 [==============================] - 2s 3ms/step - loss: 0.1304 - accuracy: 0.9770 - val_loss: 0.0590 - val_accuracy: 0.9950\n",
      "Epoch 54/100\n",
      "700/700 [==============================] - 2s 3ms/step - loss: 0.1281 - accuracy: 0.9775 - val_loss: 0.0695 - val_accuracy: 0.9944\n",
      "Epoch 55/100\n",
      "700/700 [==============================] - 1s 2ms/step - loss: 0.1771 - accuracy: 0.9766 - val_loss: 0.0578 - val_accuracy: 0.9925\n",
      "Epoch 56/100\n",
      "700/700 [==============================] - 1s 2ms/step - loss: 0.1280 - accuracy: 0.9782 - val_loss: 0.1437 - val_accuracy: 0.9501\n",
      "Epoch 57/100\n",
      "700/700 [==============================] - 1s 2ms/step - loss: 0.1714 - accuracy: 0.9721 - val_loss: 0.0629 - val_accuracy: 0.9869\n",
      "Epoch 58/100\n",
      "700/700 [==============================] - 1s 2ms/step - loss: 0.1215 - accuracy: 0.9776 - val_loss: 0.0575 - val_accuracy: 0.9879\n",
      "Epoch 59/100\n",
      "700/700 [==============================] - 1s 2ms/step - loss: 0.1181 - accuracy: 0.9784 - val_loss: 0.3496 - val_accuracy: 0.9351\n",
      "Epoch 60/100\n",
      "700/700 [==============================] - 2s 2ms/step - loss: 0.1151 - accuracy: 0.9789 - val_loss: 0.1864 - val_accuracy: 0.9323\n",
      "Epoch 61/100\n",
      "700/700 [==============================] - 2s 2ms/step - loss: 0.1233 - accuracy: 0.9784 - val_loss: 0.0524 - val_accuracy: 0.9952\n",
      "Epoch 62/100\n",
      "700/700 [==============================] - 1s 2ms/step - loss: 0.1239 - accuracy: 0.9756 - val_loss: 0.0512 - val_accuracy: 0.9966\n",
      "Epoch 63/100\n",
      "700/700 [==============================] - 1s 2ms/step - loss: 0.1412 - accuracy: 0.9795 - val_loss: 0.0721 - val_accuracy: 0.9911\n",
      "Epoch 64/100\n",
      "700/700 [==============================] - 2s 2ms/step - loss: 0.1731 - accuracy: 0.9771 - val_loss: 1.2348 - val_accuracy: 0.9354\n",
      "Epoch 65/100\n",
      "700/700 [==============================] - 2s 3ms/step - loss: 0.0998 - accuracy: 0.9854 - val_loss: 0.3766 - val_accuracy: 0.9280\n",
      "Epoch 66/100\n",
      "700/700 [==============================] - 1s 2ms/step - loss: 0.0976 - accuracy: 0.9851 - val_loss: 0.1406 - val_accuracy: 0.9403\n",
      "Epoch 67/100\n",
      "700/700 [==============================] - 1s 2ms/step - loss: 0.2107 - accuracy: 0.9749 - val_loss: 0.3440 - val_accuracy: 0.9362\n",
      "Epoch 68/100\n",
      "700/700 [==============================] - 1s 2ms/step - loss: 0.1331 - accuracy: 0.9784 - val_loss: 0.0522 - val_accuracy: 0.9967\n",
      "Epoch 69/100\n",
      "700/700 [==============================] - 1s 2ms/step - loss: 0.1145 - accuracy: 0.9800 - val_loss: 0.1059 - val_accuracy: 0.9673\n",
      "Epoch 70/100\n",
      "700/700 [==============================] - 2s 2ms/step - loss: 0.0885 - accuracy: 0.9845 - val_loss: 0.0445 - val_accuracy: 0.9945\n",
      "Epoch 71/100\n",
      "700/700 [==============================] - 2s 3ms/step - loss: 0.1031 - accuracy: 0.9828 - val_loss: 0.0449 - val_accuracy: 0.9956\n",
      "Epoch 72/100\n",
      "700/700 [==============================] - 2s 2ms/step - loss: 0.0828 - accuracy: 0.9854 - val_loss: 0.0477 - val_accuracy: 0.9942\n",
      "Epoch 73/100\n",
      "700/700 [==============================] - 2s 2ms/step - loss: 0.0972 - accuracy: 0.9842 - val_loss: 0.0645 - val_accuracy: 0.9950\n",
      "Epoch 74/100\n",
      "700/700 [==============================] - 1s 2ms/step - loss: 0.1465 - accuracy: 0.9772 - val_loss: 0.1980 - val_accuracy: 0.9406\n",
      "Epoch 75/100\n",
      "700/700 [==============================] - 2s 2ms/step - loss: 0.0629 - accuracy: 0.9887 - val_loss: 0.0843 - val_accuracy: 0.9813\n",
      "Epoch 76/100\n",
      "700/700 [==============================] - 1s 2ms/step - loss: 0.1141 - accuracy: 0.9869 - val_loss: 0.6529 - val_accuracy: 0.9361\n",
      "Epoch 77/100\n",
      "700/700 [==============================] - 2s 2ms/step - loss: 0.1904 - accuracy: 0.9759 - val_loss: 0.1227 - val_accuracy: 0.9562\n",
      "Epoch 78/100\n",
      "700/700 [==============================] - 2s 3ms/step - loss: 0.2833 - accuracy: 0.9738 - val_loss: 0.0397 - val_accuracy: 0.9982\n",
      "Epoch 79/100\n",
      "700/700 [==============================] - 2s 2ms/step - loss: 0.0569 - accuracy: 0.9909 - val_loss: 0.0839 - val_accuracy: 0.9767\n",
      "Epoch 80/100\n",
      "700/700 [==============================] - 2s 2ms/step - loss: 0.1368 - accuracy: 0.9840 - val_loss: 0.0448 - val_accuracy: 0.9976\n",
      "Epoch 81/100\n",
      "700/700 [==============================] - 1s 2ms/step - loss: 0.1487 - accuracy: 0.9817 - val_loss: 0.1532 - val_accuracy: 0.9477\n",
      "Epoch 82/100\n",
      "700/700 [==============================] - 2s 2ms/step - loss: 0.0769 - accuracy: 0.9874 - val_loss: 0.0458 - val_accuracy: 0.9967\n",
      "Epoch 83/100\n",
      "700/700 [==============================] - 2s 2ms/step - loss: 0.1894 - accuracy: 0.9845 - val_loss: 0.0470 - val_accuracy: 0.9905\n",
      "Epoch 84/100\n",
      "700/700 [==============================] - 1s 2ms/step - loss: 0.0885 - accuracy: 0.9882 - val_loss: 0.0711 - val_accuracy: 0.9909\n",
      "Epoch 85/100\n",
      "700/700 [==============================] - 1s 2ms/step - loss: 0.1496 - accuracy: 0.9820 - val_loss: 0.0429 - val_accuracy: 0.9980\n",
      "Epoch 86/100\n",
      "700/700 [==============================] - 1s 2ms/step - loss: 0.0996 - accuracy: 0.9866 - val_loss: 0.0387 - val_accuracy: 0.9981\n",
      "Epoch 87/100\n",
      "700/700 [==============================] - 1s 2ms/step - loss: 0.1094 - accuracy: 0.9833 - val_loss: 0.0356 - val_accuracy: 0.9982\n",
      "Epoch 88/100\n",
      "700/700 [==============================] - 1s 2ms/step - loss: 0.1039 - accuracy: 0.9860 - val_loss: 0.0384 - val_accuracy: 0.9982\n",
      "Epoch 89/100\n",
      "700/700 [==============================] - 1s 2ms/step - loss: 0.1518 - accuracy: 0.9809 - val_loss: 0.0364 - val_accuracy: 0.9983\n",
      "Epoch 90/100\n",
      "700/700 [==============================] - 1s 2ms/step - loss: 0.0656 - accuracy: 0.9889 - val_loss: 0.0437 - val_accuracy: 0.9981\n",
      "Epoch 91/100\n",
      "700/700 [==============================] - 2s 2ms/step - loss: 0.0787 - accuracy: 0.9872 - val_loss: 0.0401 - val_accuracy: 0.9978\n",
      "Epoch 92/100\n",
      "700/700 [==============================] - 2s 2ms/step - loss: 0.1421 - accuracy: 0.9849 - val_loss: 0.0358 - val_accuracy: 0.9981\n",
      "Epoch 93/100\n",
      "700/700 [==============================] - 1s 2ms/step - loss: 0.0783 - accuracy: 0.9883 - val_loss: 0.0362 - val_accuracy: 0.9935\n",
      "Epoch 94/100\n",
      "700/700 [==============================] - 1s 2ms/step - loss: 0.1206 - accuracy: 0.9822 - val_loss: 0.0372 - val_accuracy: 0.9981\n",
      "Epoch 95/100\n",
      "700/700 [==============================] - 2s 2ms/step - loss: 0.0617 - accuracy: 0.9891 - val_loss: 0.0495 - val_accuracy: 0.9956\n",
      "Epoch 96/100\n",
      "700/700 [==============================] - 2s 2ms/step - loss: 0.1005 - accuracy: 0.9857 - val_loss: 0.1089 - val_accuracy: 0.9614\n",
      "Epoch 97/100\n",
      "700/700 [==============================] - 2s 3ms/step - loss: 0.2011 - accuracy: 0.9784 - val_loss: 0.0422 - val_accuracy: 0.9948\n",
      "Epoch 98/100\n",
      "700/700 [==============================] - 2s 2ms/step - loss: 0.1585 - accuracy: 0.9830 - val_loss: 0.0962 - val_accuracy: 0.9682\n",
      "Epoch 99/100\n",
      "700/700 [==============================] - 2s 2ms/step - loss: 0.0582 - accuracy: 0.9913 - val_loss: 0.0323 - val_accuracy: 0.9981\n",
      "Epoch 100/100\n",
      "700/700 [==============================] - 1s 2ms/step - loss: 0.0800 - accuracy: 0.9843 - val_loss: 0.0396 - val_accuracy: 0.9973\n"
     ]
    }
   ],
   "source": [
    "model=create_model()\n",
    "history = model.fit(X_train, y_train,epochs=100,validation_data=(X_test, y_test))"
   ]
  },
  {
   "cell_type": "code",
   "execution_count": 9,
   "metadata": {},
   "outputs": [
    {
     "data": {
      "text/plain": [
       "dict_keys(['loss', 'accuracy', 'val_loss', 'val_accuracy'])"
      ]
     },
     "execution_count": 9,
     "metadata": {},
     "output_type": "execute_result"
    }
   ],
   "source": [
    "history.history.keys()"
   ]
  },
  {
   "cell_type": "markdown",
   "metadata": {},
   "source": [
    "# Evaluacion de modelo"
   ]
  },
  {
   "cell_type": "code",
   "execution_count": 10,
   "metadata": {},
   "outputs": [
    {
     "data": {
      "image/png": "[encoded data removed]",
      "text/plain": [
       "<Figure size 432x288 with 1 Axes>"
      ]
     },
     "metadata": {},
     "output_type": "display_data"
    },
    {
     "data": {
      "image/png": "[encoded data removed]",
      "text/plain": [
       "<Figure size 432x288 with 1 Axes>"
      ]
     },
     "metadata": {},
     "output_type": "display_data"
    }
   ],
   "source": [
    "# Plot training & validation accuracy values\n",
    "plt.plot(history.history['accuracy'],'o-', color=\"r\",label=\"Training score\")\n",
    "plt.plot(history.history['val_accuracy'], 'o-', color=\"g\",label=\"Test score\")\n",
    "plt.title('Model accuracy')\n",
    "plt.ylabel('Accuracy')\n",
    "plt.xlabel('Epoch')\n",
    "plt.legend(['Train', 'Test'], loc='upper left')\n",
    "plt.show()\n",
    "\n",
    "# Plot training & validation loss values\n",
    "plt.plot(history.history['loss'],'o-', color=\"r\",label=\"Training score\")\n",
    "plt.plot(history.history['val_loss'], 'o-', color=\"g\",label=\"Test score\")\n",
    "plt.title('Model loss')\n",
    "plt.ylabel('Loss')\n",
    "plt.xlabel('Epoch')\n",
    "plt.legend(['Train', 'Test'], loc='upper left')\n",
    "plt.show()"
   ]
  },
  {
   "cell_type": "code",
   "execution_count": 11,
   "metadata": {},
   "outputs": [
    {
     "data": {
      "text/plain": [
       "Text(111.5, 0.5, 'true')"
      ]
     },
     "execution_count": 11,
     "metadata": {},
     "output_type": "execute_result"
    },
    {
     "data": {
      "image/png": "[encoded data removed]",
      "text/plain": [
       "<Figure size 1080x432 with 2 Axes>"
      ]
     },
     "metadata": {},
     "output_type": "display_data"
    }
   ],
   "source": [
    "from sklearn.metrics import confusion_matrix\n",
    "import seaborn as sns\n",
    "import matplotlib.pyplot as plt\n",
    "\n",
    "sns.set()\n",
    "f,ax=plt.subplots(figsize=(15,6))\n",
    "\n",
    "y_pred=model.predict(X_test)\n",
    "C2= confusion_matrix(np.argmax(y_test.to_numpy(), axis=1),np.argmax(y_pred, axis=1))\n",
    "\n",
    "sns.heatmap(C2,annot=True,ax=ax) #Dibuja un mapa de calor\n",
    "\n",
    "ax.set_title('confusion matrix') #título\n",
    "ax.set_xlabel('predict') #eje x\n",
    "ax.set_ylabel('true') #eje y"
   ]
  },
  {
   "cell_type": "markdown",
   "metadata": {},
   "source": [
    "# Optimizacion de parametros"
   ]
  },
  {
   "cell_type": "code",
   "execution_count": 12,
   "metadata": {},
   "outputs": [],
   "source": [
    "parameters = {'batch_size': [16,32,64], 'epochs':[10,70,100]}"
   ]
  },
  {
   "cell_type": "code",
   "execution_count": 13,
   "metadata": {},
   "outputs": [
    {
     "name": "stderr",
     "output_type": "stream",
     "text": [
      "C:\\Users\\ADMIN1\\anaconda3\\lib\\site-packages\\ipykernel_launcher.py:1: DeprecationWarning: KerasClassifier is deprecated, use Sci-Keras (https://github.com/adriangb/scikeras) instead.\n",
      "  \"\"\"Entry point for launching an IPython kernel.\n"
     ]
    }
   ],
   "source": [
    "estimator = KerasClassifier(build_fn=create_model, verbose=0)\n",
    "grid_search = GridSearchCV(estimator=estimator, param_grid=parameters, scoring='roc_auc_ovr', cv=10,n_jobs=-1)"
   ]
  },
  {
   "cell_type": "code",
   "execution_count": 27,
   "metadata": {},
   "outputs": [
    {
     "name": "stdout",
     "output_type": "stream",
     "text": [
      "Model: \"sequential_4\"\n",
      "_________________________________________________________________\n",
      " Layer (type)                Output Shape              Param #   \n",
      "=================================================================\n",
      " dense_4 (Dense)             (None, 16)                64        \n",
      "                                                                 \n",
      "=================================================================\n",
      "Total params: 64\n",
      "Trainable params: 64\n",
      "Non-trainable params: 0\n",
      "_________________________________________________________________\n"
     ]
    },
    {
     "data": {
      "text/plain": [
       "{'batch_size': 16, 'epochs': 70}"
      ]
     },
     "execution_count": 27,
     "metadata": {},
     "output_type": "execute_result"
    }
   ],
   "source": [
    "grid_search.fit(X_train, y_train)\n",
    "grid_search.best_params_"
   ]
  },
  {
   "cell_type": "code",
   "execution_count": 28,
   "metadata": {},
   "outputs": [],
   "source": [
    "best_epochs= grid_search.best_params_['epochs']\n",
    "best_batch= grid_search.best_params_['batch_size']"
   ]
  },
  {
   "cell_type": "markdown",
   "metadata": {},
   "source": [
    "# Validacion Cruzada"
   ]
  },
  {
   "cell_type": "code",
   "execution_count": 31,
   "metadata": {},
   "outputs": [],
   "source": [
    "X_train, X_test, y_train, y_test = train_test_split(df[[\"Valor_R\",\"Valor_V\",\"Valor_A\"]], pd.get_dummies(df[\"etiqueta\"]), test_size = 0.1, stratify = df[\"etiqueta\"])"
   ]
  },
  {
   "cell_type": "code",
   "execution_count": 32,
   "metadata": {},
   "outputs": [
    {
     "name": "stderr",
     "output_type": "stream",
     "text": [
      "C:\\Users\\ADMIN1\\anaconda3\\lib\\site-packages\\ipykernel_launcher.py:4: DeprecationWarning: KerasClassifier is deprecated, use Sci-Keras (https://github.com/adriangb/scikeras) instead.\n",
      "  after removing the cwd from sys.path.\n"
     ]
    },
    {
     "name": "stdout",
     "output_type": "stream",
     "text": [
      "Precision media:  0.9586963295936585 +/- 0.034948556392302765\n"
     ]
    }
   ],
   "source": [
    "from tensorflow.keras.wrappers.scikit_learn import KerasClassifier\n",
    "from sklearn.model_selection import cross_val_score\n",
    "\n",
    "estimator = KerasClassifier(build_fn=create_model, verbose=2, batch_size=best_batch, epochs=best_epochs)\n",
    "\n",
    "accuracies = cross_val_score(estimator, X_train,  y_train, cv=10, n_jobs=-1)\n",
    "mean_acc = accuracies.mean()\n",
    "variance_acc = accuracies.std()\n",
    "print('Precision media: ', mean_acc,\"+/-\",variance_acc)"
   ]
  },
  {
   "cell_type": "markdown",
   "metadata": {},
   "source": [
    "# Pesos del modelo"
   ]
  },
  {
   "cell_type": "code",
   "execution_count": 18,
   "metadata": {},
   "outputs": [
    {
     "data": {
      "text/plain": [
       "[array([[-0.6253819 ,  0.6402558 ,  0.7315958 , -0.157087  , -0.2796196 ,\n",
       "         -0.36351466,  0.53713095, -0.0332643 ,  0.3225097 ,  0.13049965,\n",
       "          0.28945106,  0.01583506,  0.8619777 , -0.4209774 ,  0.6219712 ,\n",
       "         -0.16828847],\n",
       "        [ 0.55097234,  0.2147235 , -0.82305175,  0.34974766,  0.10634955,\n",
       "          0.48321602,  0.07216033,  0.1458602 ,  0.08742931,  0.1451781 ,\n",
       "          0.23819429,  0.03626081, -0.42877027,  0.86228704,  0.12278113,\n",
       "          0.7121539 ],\n",
       "        [ 0.49116465, -0.57410747,  0.54581094,  0.40838584,  0.82741344,\n",
       "          0.46353158, -0.12655836,  0.6219479 ,  0.17330442,  0.39037892,\n",
       "          0.01212402,  0.35666707, -0.10231501, -0.20726198, -0.350343  ,\n",
       "         -0.09243802]], dtype=float32),\n",
       " array([ 8.6934674e-01, -1.6040288e+00, -3.0411396e+00,  9.2198582e+00,\n",
       "        -4.2633052e+00, -4.8168931e+00, -5.6632471e+00, -6.0232849e+00,\n",
       "         1.8121088e+00, -8.2907791e+00, -1.8871977e+00,  2.3661432e+01,\n",
       "         3.6174040e+00, -4.0074303e-03, -1.1478107e+00, -6.8009229e+00],\n",
       "       dtype=float32)]"
      ]
     },
     "execution_count": 18,
     "metadata": {},
     "output_type": "execute_result"
    }
   ],
   "source": [
    "weights = model.get_weights()\n",
    "weights"
   ]
  },
  {
   "cell_type": "code",
   "execution_count": 20,
   "metadata": {},
   "outputs": [
    {
     "data": {
      "text/plain": [
       "(3, 16)"
      ]
     },
     "execution_count": 20,
     "metadata": {},
     "output_type": "execute_result"
    }
   ],
   "source": [
    "weights[0].shape"
   ]
  },
  {
   "cell_type": "code",
   "execution_count": 17,
   "metadata": {},
   "outputs": [
    {
     "data": {
      "text/plain": [
       "'{\"class_name\": \"Sequential\", \"config\": {\"name\": \"sequential\", \"layers\": [{\"class_name\": \"InputLayer\", \"config\": {\"batch_input_shape\": [null, 3], \"dtype\": \"float32\", \"sparse\": false, \"ragged\": false, \"name\": \"dense_input\"}}, {\"class_name\": \"Dense\", \"config\": {\"name\": \"dense\", \"trainable\": true, \"batch_input_shape\": [null, 3], \"dtype\": \"float32\", \"units\": 16, \"activation\": \"softmax\", \"use_bias\": true, \"kernel_initializer\": {\"class_name\": \"GlorotUniform\", \"config\": {\"seed\": null}}, \"bias_initializer\": {\"class_name\": \"Zeros\", \"config\": {}}, \"kernel_regularizer\": null, \"bias_regularizer\": null, \"activity_regularizer\": null, \"kernel_constraint\": null, \"bias_constraint\": null}}]}, \"keras_version\": \"2.7.0\", \"backend\": \"tensorflow\"}'"
      ]
     },
     "execution_count": 17,
     "metadata": {},
     "output_type": "execute_result"
    }
   ],
   "source": [
    "model.to_json()"
   ]
  }
 ],
 "metadata": {
  "kernelspec": {
   "display_name": "Python 3",
   "language": "python",
   "name": "python3"
  },
  "language_info": {
   "codemirror_mode": {
    "name": "ipython",
    "version": 3
   },
   "file_extension": ".py",
   "mimetype": "text/x-python",
   "name": "python",
   "nbconvert_exporter": "python",
   "pygments_lexer": "ipython3",
   "version": "3.7.6"
  }
 },
 "nbformat": 4,
 "nbformat_minor": 4
}
